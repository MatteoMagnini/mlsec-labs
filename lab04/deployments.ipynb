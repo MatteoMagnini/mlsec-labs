{
 "cells": [
  {
   "cell_type": "code",
   "execution_count": null,
   "metadata": {},
   "outputs": [],
   "source": [
    "import os\n",
    "import json\n",
    "import datetime\n",
    "import numpy as np\n",
    "from sklearn.svm import LinearSVC\n",
    "from sklearn.feature_extraction import DictVectorizer\n",
    "from tesseract import evaluation, temporal \n",
    "from sklearn.model_selection import train_test_split\n",
    "\n",
    "FILEPATH='/Users/fabio/work/mlsec-malware-class/labs/extended-features/extended-features'\n",
    "\n",
    "os.environ[\"PATH\"] += os.pathsep + '/Library/TeX/texbin'\n",
    "\n",
    "## Loading features\n",
    "def load_dataset(dataset_path):\n",
    "    \"\"\"\n",
    "    The function to load features in the Tesseract dataset. Please note that you have to parametrize the names of the files opened, to load the right file. \n",
    "    \"\"\"\n",
    "    print(f'Loading dataset from {dataset_path}')\n",
    "\n",
    "    with open('{}-X-updated-reduced-10k.json'.format(dataset_path), 'r') as f:\n",
    "        X = json.load(f)\n",
    "\n",
    "    print('Loading labels...')\n",
    "    with open('{}-y-updated.json'.format(dataset_path), 'rt') as f:\n",
    "        y = json.load(f)\n",
    "\n",
    "    print('Loading timestamps...')\n",
    "    with open('{}-meta-updated.json'.format(dataset_path), 'rt') as f:\n",
    "        meta = json.load(f)\n",
    "\n",
    "    # Convert to numpy array and get feature names\n",
    "    vec =  DictVectorizer()\n",
    "    X = vec.fit_transform(X).astype(\"float32\")\n",
    "    y = np.asarray(y)\n",
    "    feature_names = vec.get_feature_names_out()\n",
    "\n",
    "\n",
    "    return X, y, meta, feature_names\n",
    "\n",
    "X, y, meta, feature_names = load_dataset(FILEPATH)\n",
    "\n",
    "## Commenting code to load and split\n",
    "\n",
    "# # Following DREBIN feature-space\n",
    "# clf = LinearSVC(C=1)\n",
    "\n",
    "# # Random split of train-test\n",
    "# X_train, X_test, y_train, y_test = train_test_split(\n",
    "#     X, y, test_size=0.33, random_state=42)\n",
    "\n",
    "# # Training the classifier\n",
    "# clf.fit(X_train, y_train)\n",
    "\n",
    "# y_pred = clf.predict(X_test)"
   ]
  },
  {
   "cell_type": "markdown",
   "metadata": {},
   "source": [
    "# Exercise\n",
    "\n",
    "Check the impacts of 'markets' (sampling bias) and 'labels' (label inaccuracy) on malware detection.\n",
    "\n",
    "Experiment to quantify impact: \n",
    "* Dataset $D_1$: 10,000 goodware from Play, 1,000 malware from Chinese markets\n",
    "* Dataset $D_2$: 10,000 goodware from Play, 1,000 malware from Play\n",
    "* Labels: Malware are apps detected by at least 10 VT antivirus scanners \n",
    "* Classifier: DREBIN's LinearSVM with C=1\n",
    "\n",
    "Check Recall, Precision, F1-Score on D1 and D2. \n",
    "\n",
    "Does anything change if you change the 'label threshold'? "
   ]
  },
  {
   "cell_type": "code",
   "execution_count": null,
   "metadata": {},
   "outputs": [],
   "source": [
    "## Hint to filter apps from different markets\n",
    "markets = []\n",
    "for o in meta:\n",
    "    markets.append(o['markets'])\n",
    "\n",
    "mask_google = np.array(markets) == 'play.google.com'\n",
    "mask_else = np.array(['play' not in x for x in np.array(markets)])\n",
    "print('Apps in Google Play Store: {:,}'.format(np.sum(mask_google)))\n",
    "print('Apps in Other Markets: {:,}'.format(np.sum(mask_else)))"
   ]
  },
  {
   "cell_type": "code",
   "execution_count": null,
   "metadata": {},
   "outputs": [],
   "source": [
    "# Hint to 'count' apps from different markets\n",
    "from collections import Counter\n",
    "Counter(markets)"
   ]
  },
  {
   "cell_type": "code",
   "execution_count": null,
   "metadata": {},
   "outputs": [],
   "source": []
  }
 ],
 "metadata": {
  "kernelspec": {
   "display_name": "Python 3.11.3 64-bit",
   "language": "python",
   "name": "python3"
  },
  "language_info": {
   "codemirror_mode": {
    "name": "ipython",
    "version": 3
   },
   "file_extension": ".py",
   "mimetype": "text/x-python",
   "name": "python",
   "nbconvert_exporter": "python",
   "pygments_lexer": "ipython3",
   "version": "3.11.3"
  },
  "orig_nbformat": 4,
  "vscode": {
   "interpreter": {
    "hash": "aee8b7b246df8f9039afb4144a1f6fd8d2ca17a180786b69acc140d282b71a49"
   }
  }
 },
 "nbformat": 4,
 "nbformat_minor": 2
}
