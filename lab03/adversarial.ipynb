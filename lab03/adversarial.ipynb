{
 "cells": [
  {
   "cell_type": "markdown",
   "metadata": {},
   "source": [
    "# Adversarial Attacks"
   ]
  },
  {
   "cell_type": "markdown",
   "metadata": {},
   "source": [
    "The following code is loading the Tesseract dataset towards doing an adversarial attack."
   ]
  },
  {
   "cell_type": "code",
   "execution_count": null,
   "metadata": {},
   "outputs": [],
   "source": [
    "import os\n",
    "import json\n",
    "import datetime\n",
    "import numpy as np\n",
    "from sklearn.svm import LinearSVC\n",
    "from sklearn.feature_extraction import DictVectorizer\n",
    "from tesseract import evaluation, temporal \n",
    "from sklearn.model_selection import train_test_split\n",
    "\n",
    "os.environ[\"PATH\"] += os.pathsep + '/Library/TeX/texbin'\n",
    "\n",
    "## Loading features\n",
    "def load_dataset(dataset_path):\n",
    "    \"\"\"\n",
    "    The function to load features in the Tesseract dataset. Please note that you have to parametrize the names of the files opened, to load the right file. \n",
    "    \"\"\"\n",
    "    print(f'Loading dataset from {dataset_path}')\n",
    "\n",
    "    with open('{}-X-updated-reduced-10k.json'.format(dataset_path), 'r') as f:\n",
    "        X = json.load(f)\n",
    "\n",
    "    print('Loading labels...')\n",
    "    with open('{}-y-updated.json'.format(dataset_path), 'rt') as f:\n",
    "        y = json.load(f)\n",
    "\n",
    "    print('Loading timestamps...')\n",
    "    with open('{}-meta-updated.json'.format(dataset_path), 'rt') as f:\n",
    "        T = json.load(f)\n",
    "    T = [o['dex_date'] for o in T]\n",
    "    T = np.array([datetime.datetime.strptime(o, '%Y-%m-%dT%H:%M:%S') if \"T\" in o\n",
    "             else datetime.datetime.strptime(o, '%Y-%m-%d %H:%M:%S') for o in T])\n",
    "\n",
    "    # Convert to numpy array and get feature names\n",
    "    vec =  DictVectorizer()\n",
    "    X = vec.fit_transform(X).astype(\"float32\")\n",
    "    y = np.asarray(y)\n",
    "    feature_names = vec.get_feature_names_out()\n",
    "\n",
    "    # Get time index of each sample for easy reference\n",
    "    time_index = {}\n",
    "    for i in range(len(T)):\n",
    "        t = T[i]\n",
    "        if t.year not in time_index:\n",
    "            time_index[t.year] = {}\n",
    "        if t.month not in time_index[t.year]:\n",
    "            time_index[t.year][t.month] = []\n",
    "        time_index[t.year][t.month].append(i)\n",
    "\n",
    "    return X, y, time_index, feature_names, T\n",
    "\n",
    "X, y, time_index, feature_names, T = load_dataset('/Users/fabio/work/mlsec-malware-class/labs/extended-features/extended-features')\n",
    "\n",
    "# Following DREBIN feature-space\n",
    "clf = LinearSVC(C=1)\n",
    "\n",
    "# Random split of train-test\n",
    "X_train, X_test, y_train, y_test = train_test_split(\n",
    "    X, y, test_size=0.33, random_state=42)\n",
    "\n",
    "# Training the classifier\n",
    "clf.fit(X_train, y_train)\n",
    "\n",
    "y_pred = clf.predict(X_test)"
   ]
  },
  {
   "cell_type": "markdown",
   "metadata": {},
   "source": [
    "## Exercise 1: Evasion of a single point (Linear Classifier)\n",
    "\n",
    "Generate an adversarial attack for a single point. Get the most important benign feature of the svm (hint: look at `coef_[0]`), and swap it to a 1.0 (the feature space is binary).\n",
    "\n",
    "Notes: you should attack only true positives!"
   ]
  },
  {
   "cell_type": "code",
   "execution_count": null,
   "metadata": {},
   "outputs": [],
   "source": []
  },
  {
   "cell_type": "markdown",
   "metadata": {},
   "source": [
    "## Exercise 2: Security Evaluation Curves (Linear Classifier)\n",
    "\n",
    "Create a function that modifies the top-1, top-2, ... top-N features to all samples, and draws a security evaluation curve as follows: the number of modified features on the X-axis, and the attack success rate on the Y-axis.\n",
    "\n",
    "Note: you should attack only true positives!"
   ]
  },
  {
   "cell_type": "code",
   "execution_count": null,
   "metadata": {},
   "outputs": [],
   "source": []
  }
 ],
 "metadata": {
  "kernelspec": {
   "display_name": "Python 3.11.3 64-bit",
   "language": "python",
   "name": "python3"
  },
  "language_info": {
   "codemirror_mode": {
    "name": "ipython",
    "version": 3
   },
   "file_extension": ".py",
   "mimetype": "text/x-python",
   "name": "python",
   "nbconvert_exporter": "python",
   "pygments_lexer": "ipython3",
   "version": "3.11.3"
  },
  "orig_nbformat": 4,
  "vscode": {
   "interpreter": {
    "hash": "aee8b7b246df8f9039afb4144a1f6fd8d2ca17a180786b69acc140d282b71a49"
   }
  }
 },
 "nbformat": 4,
 "nbformat_minor": 2
}
